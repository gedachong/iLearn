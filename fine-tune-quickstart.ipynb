{
 "cells": [
  {
   "cell_type": "code",
   "execution_count": 1,
   "id": "abfa7394-d415-41fc-93b1-79121ba7e728",
   "metadata": {},
   "outputs": [],
   "source": [
    "import os\n",
    "os.environ['HF_HOME']=\"/GL8616/HF\"\n",
    "os.environ['HF_HUB_CACHE']=\"/GL8616/HF/HUB\"\n",
    "os.environ['HF_DATASETS_CACHE']=\"/GL8616/HF/DATA\""
   ]
  },
  {
   "cell_type": "code",
   "execution_count": 4,
   "id": "1f130767-db6f-4d56-8a5e-14ba4294393f",
   "metadata": {},
   "outputs": [],
   "source": [
    "from datasets import load_dataset\n",
    "dataset = load_dataset(\"yelp_review_full\")"
   ]
  },
  {
   "cell_type": "code",
   "execution_count": 5,
   "id": "bff03bea-5bc9-423a-98ca-2a9e72834bf7",
   "metadata": {},
   "outputs": [
    {
     "data": {
      "text/plain": [
       "DatasetDict({\n",
       "    train: Dataset({\n",
       "        features: ['label', 'text'],\n",
       "        num_rows: 650000\n",
       "    })\n",
       "    test: Dataset({\n",
       "        features: ['label', 'text'],\n",
       "        num_rows: 50000\n",
       "    })\n",
       "})"
      ]
     },
     "execution_count": 5,
     "metadata": {},
     "output_type": "execute_result"
    }
   ],
   "source": [
    "dataset"
   ]
  },
  {
   "cell_type": "code",
   "execution_count": 26,
   "id": "f9dfeec9-034b-4460-b186-d8ebf8ab212c",
   "metadata": {},
   "outputs": [
    {
     "data": {
      "text/plain": [
       "{'label': 1,\n",
       " 'text': \"The food is good. Unfortunately the service is very hit or miss. The main issue seems to be with the kitchen, the waiters and waitresses are often very apologetic for the long waits and it's pretty obvious that some of them avoid the tables after taking the initial order to avoid hearing complaints.\"}"
      ]
     },
     "execution_count": 26,
     "metadata": {},
     "output_type": "execute_result"
    }
   ],
   "source": [
    "dataset['train'][130]"
   ]
  },
  {
   "cell_type": "code",
   "execution_count": 4,
   "id": "fe4705bc-86c0-4f6a-8d54-d1b93bce97f8",
   "metadata": {},
   "outputs": [],
   "source": [
    "import random\n",
    "import pandas as pd\n",
    "import datasets\n",
    "from IPython.display import display, HTML\n",
    "def show_random_elements(dataset, num_examples=10):\n",
    "    assert num_examples <= len(dataset), \"Can't pick more elements than there are in the dataset.\"\n",
    "    picks = []\n",
    "    for _ in range(num_examples):\n",
    "        pick = random.randint(0,len(dataset)-1)\n",
    "        while pick in picks:\n",
    "            pick = random.randint(0, len(dataset)-1)\n",
    "        picks.append(pick)\n",
    "    df = pd.DataFrame(dataset[picks])\n",
    "    for column, typ in dataset.features.items():\n",
    "        if isinstance(typ, datasets.ClassLabel):\n",
    "            df[column] = df[column].transform(lambda i: typ.names[i])\n",
    "    display(HTML(df.to_html()))"
   ]
  },
  {
   "cell_type": "code",
   "execution_count": 24,
   "id": "5c6c431a-8cd8-4aed-bb88-808bffdf4354",
   "metadata": {},
   "outputs": [
    {
     "data": {
      "text/html": [
       "<div>\n",
       "<style scoped>\n",
       "    .dataframe tbody tr th:only-of-type {\n",
       "        vertical-align: middle;\n",
       "    }\n",
       "\n",
       "    .dataframe tbody tr th {\n",
       "        vertical-align: top;\n",
       "    }\n",
       "\n",
       "    .dataframe thead th {\n",
       "        text-align: right;\n",
       "    }\n",
       "</style>\n",
       "<table border=\"1\" class=\"dataframe\">\n",
       "  <thead>\n",
       "    <tr style=\"text-align: right;\">\n",
       "      <th></th>\n",
       "      <th>label</th>\n",
       "      <th>text</th>\n",
       "    </tr>\n",
       "  </thead>\n",
       "  <tbody>\n",
       "    <tr>\n",
       "      <th>0</th>\n",
       "      <td>1</td>\n",
       "      <td>Unfortunately, the frustration of being Dr. Go...</td>\n",
       "    </tr>\n",
       "    <tr>\n",
       "      <th>1</th>\n",
       "      <td>3</td>\n",
       "      <td>Got a letter in the mail last week that said D...</td>\n",
       "    </tr>\n",
       "    <tr>\n",
       "      <th>2</th>\n",
       "      <td>4</td>\n",
       "      <td>Top notch doctor in a top notch practice. Can'...</td>\n",
       "    </tr>\n",
       "    <tr>\n",
       "      <th>3</th>\n",
       "      <td>0</td>\n",
       "      <td>Owning a driving range inside the city limits ...</td>\n",
       "    </tr>\n",
       "  </tbody>\n",
       "</table>\n",
       "</div>"
      ],
      "text/plain": [
       "   label                                               text\n",
       "0      1  Unfortunately, the frustration of being Dr. Go...\n",
       "1      3  Got a letter in the mail last week that said D...\n",
       "2      4  Top notch doctor in a top notch practice. Can'...\n",
       "3      0  Owning a driving range inside the city limits ..."
      ]
     },
     "execution_count": 24,
     "metadata": {},
     "output_type": "execute_result"
    }
   ],
   "source": [
    "df = pd.DataFrame(dataset['train'][[1,3,5,10]])\n",
    "df"
   ]
  },
  {
   "cell_type": "code",
   "execution_count": 15,
   "id": "cecae683-fef2-4c12-90ab-c08903bc06bf",
   "metadata": {},
   "outputs": [
    {
     "data": {
      "text/html": [
       "<table border=\"1\" class=\"dataframe\">\n",
       "  <thead>\n",
       "    <tr style=\"text-align: right;\">\n",
       "      <th></th>\n",
       "      <th>label</th>\n",
       "      <th>text</th>\n",
       "    </tr>\n",
       "  </thead>\n",
       "  <tbody>\n",
       "    <tr>\n",
       "      <th>0</th>\n",
       "      <td>2 star</td>\n",
       "      <td>So I'm sure everyone has been to an Applebees in their lifetime. This particular location has terrible customer service! I've been there a few times hoping their customer service improves and only because it is a close location to where I live and for their happy hour. When you walk in you normally have to eye down the hosts or waiters to know that you are there waiting. Rarely is there anyone greeting you. They take a while with their food even when it's not busy, and their food is typically really salty. I wouldn't recommend this location, only if you're desperate for some cheap drinks during happy hour.</td>\n",
       "    </tr>\n",
       "    <tr>\n",
       "      <th>1</th>\n",
       "      <td>1 star</td>\n",
       "      <td>Worst customer service ever! Stay far far away. They try to take advantage whenever possible. All about how mush they can tip you off. Poor workmanship. Rude people. Lots if money.</td>\n",
       "    </tr>\n",
       "    <tr>\n",
       "      <th>2</th>\n",
       "      <td>4 stars</td>\n",
       "      <td>Not Bad sushi...very cool decor, a little too air conditioned...Definately a young good looking college crowd...and then us late 20 and 30 somethings..\\n\\nA group of 12 of us went in tonight, a Tuesday, (we are all out of towners just here for work) and we got a table and served relatively quickly. \\n\\nWe ordered the Tuna Tar Tar, Spicy Tuna Roll, Rainbow Roll and some Nigiri...all I like is the Maguro combo's and they were great, nothing special, but tasty. At the other end of the table they got these deep fried rolls with cream cheese and all that I don't consider real sushi, they were probably good but I didn't try them.\\n\\nThe prices are ok, the 3 of us with all our sushi and $3.25 Miso soups and a few beers was only $77, maybe I'm just used to paying more in the San Fran area that I live... \\n\\nThe best part was the T-shirts all the waitresses wear..they say\\n\\n\\\"Will you still _____ me in the morning.\\\" ....I guess you fill in the blank.</td>\n",
       "    </tr>\n",
       "    <tr>\n",
       "      <th>3</th>\n",
       "      <td>4 stars</td>\n",
       "      <td>Good shit. Good all around service. The food was prompt and the beer was ice cold.  Fuck it don't need much more. Plus is happy hour till 6am. So can't complain.</td>\n",
       "    </tr>\n",
       "    <tr>\n",
       "      <th>4</th>\n",
       "      <td>3 stars</td>\n",
       "      <td>I had the duck....excellent, excellent, excellent.  My wife had the Gumbo, a complete miss.  How do you miss on gumbo when your a southern restaurant is beyond me.  Taking both of the plates into consideration and the fact that i thought it was overpriced, took it to a 3 star.  \\n\\nSeparate note, the design and remodel of the old building is cool and worth checking out.</td>\n",
       "    </tr>\n",
       "    <tr>\n",
       "      <th>5</th>\n",
       "      <td>1 star</td>\n",
       "      <td>BLAND and GROSS.... Don't bother. Made me sick to my stomach</td>\n",
       "    </tr>\n",
       "    <tr>\n",
       "      <th>6</th>\n",
       "      <td>2 star</td>\n",
       "      <td>I think my expectations were too high.. Way too high cause I'm left disappointed after my visit here.  I never like writing negative reviews but I had to.. I just had to. \\n\\nFirst off, would it hurt for the workers to smile and greet customers? We were first timers and the menus were all over the place, I didn't even know where to look first. Seriously after 5 seconds of stepping inside, she goes \\\"What did you guys want?\\\" Wait what, excuse me? Not even a \\\"Hello! How are you?\\\" Or something.. Geez. \\n\\nHer monotonous voice and blank stare urged me to hurry up and figure out what I want so she doesn't get anymore pissed off. I opted for a Creamy Bun that everyone was hyping about and I got it with Cappuccino Crunch. It was very good, as I'm familiar with Thriftys ice cream. But dang, $5?! Idk about that.. Maybe $3.75 but not $5. The bf got a Honeydew Shaved Snow with Mochi, Popping Boba &amp; Condensed Milk drizzle. $5 as well? Talk about ripoff!\\n\\nHere's the thing, were avid fans of Snowflake Shavery &amp; shaved snow in general. Our cup was not filled with shaved snow/not filled up past the brim like the pictures on Yelp and Instagram, the toppings were tasty but a little more than a teaspoon would've been great and I didn't taste the condensed milk drizzle because well, it lacked of it.. We left totally unhappy, the girl was friendlier with the next customers who were young guys her age. Ugh!\\n\\nWhy us.. Why! We read and read the reviews here &amp; I was so ready to write a similar great review. Not impressed at all. I'd rather drive to Chinatown &amp; get legit shaved snow at a good price. Yuki may have more varieties and options to try but Snowflake Shavery wins with quality and quantity. Not sure if I'll try it again. Right now, I'm still in a sour mood from our visit.</td>\n",
       "    </tr>\n",
       "    <tr>\n",
       "      <th>7</th>\n",
       "      <td>4 stars</td>\n",
       "      <td>I am reserving the fifth star until I head back here again for a full meal.\\n\\nWe went here after the craziness of the Duck and downtown gallery crawl.  We arrived around 10:20 p.m. and the late night menu which we had our eye on started at 11.\\n\\nWe decided to order a few cocktails and appetizers until the late night menu kicked in.  I tried the vodka cocktail and sampled the gin and the punch from others in our party.  The vodka cocktail was delicious with a wonderful hint of cinnamon.  The punch was delightful and tasted like mango nectar (dangerous, I could drink a dozen they were so good). The gin cocktail was much spicer, but still well balanced and delicious.  The first appetizer we ordered was Steak Tartare  with mussels, cilantro, nuoc cham, peanuts (description from website).  It was amazing.  The tartare  was fresh, cut perfectly and deliciously enhanced by the accompaniments.  The mussel was one of the tastiest morsels I have ever eaten.  We also ordered the Sashimi with squash, apple, wasabi.  The sashimi was hamachi and it was delicious.  Tender, fresh, wonderfully accompanied by the squash and apple.\\n\\nWe sampled the entire late night menu.  It sounds like a lot, but really only had three items: A burger, Korean fried chicken, and popcorn.  The Korean fried chicken was perfectly fried, not greasy, covered in a delicious sweet and spicy sauce.  The burger was outstanding! I can't say enough.  It was juicy, cheesy, spicy, delicious and the popcorn was great as well, deliciously seasoned and almost simple. \\n\\nI can not wait to return and try more of this innovative and delicious food.</td>\n",
       "    </tr>\n",
       "    <tr>\n",
       "      <th>8</th>\n",
       "      <td>2 star</td>\n",
       "      <td>This nightclub was a dud.  My girlfriend and I stayed at the Palazzo, as such we decided to check it out since we didn't really want to leave the casino.  \\nUpon our arrival, we were directed to a very long line.  We were supposed to be on their VIP list, and that long line was for VIP guests.  WTF? I might as well wait at the regular line because it moved even faster than ours.  This club did not live up to my expectations.  I expected spacious dance floor, high ceiling, opulent decoration.  What I saw was a tiny dance floor that we could barely move.  The club itself was very small compared to XS and some others.  I felt claustrophobic being inside this place.  My girlfriend's foot got injured because people stepped all over us.  We left after 30 minutes.  It was definitely not one of our best experiences.  I want my money back.  It's good thing we didn't pay or I would have tried to get my money back.</td>\n",
       "    </tr>\n",
       "    <tr>\n",
       "      <th>9</th>\n",
       "      <td>4 stars</td>\n",
       "      <td>Delicious breakfast that reminds me of Hawaii because of the loco moco, Portuguese sausage and kahlua pork. It even has adobo rice! Oh, and did I mention pancakes?! The red velvet pancakes are a family favorite.\\nIt's not a Hash House or fancy brunch spot, but it hits the spot and not your wallet.</td>\n",
       "    </tr>\n",
       "  </tbody>\n",
       "</table>"
      ],
      "text/plain": [
       "<IPython.core.display.HTML object>"
      ]
     },
     "metadata": {},
     "output_type": "display_data"
    }
   ],
   "source": [
    "show_random_elements(dataset[\"train\"])"
   ]
  },
  {
   "cell_type": "markdown",
   "id": "13c1fe02-512f-4778-ad1a-996342357f20",
   "metadata": {},
   "source": [
    "预处理数据\n",
    "下载数据集到本地后，使用 Tokenizer 来处理文本，对于长度不等的输入数据，可以使用填充（padding）和截断（truncation）策略来处理。\n",
    "\n",
    "Datasets 的 map 方法，支持一次性在整个数据集上应用预处理函数。"
   ]
  },
  {
   "cell_type": "code",
   "execution_count": 6,
   "id": "54bf01ec-0e15-4535-9a08-26b69f4e1908",
   "metadata": {},
   "outputs": [
    {
     "name": "stderr",
     "output_type": "stream",
     "text": [
      "/usr/local/lib/python3.10/dist-packages/huggingface_hub/file_download.py:945: FutureWarning: `resume_download` is deprecated and will be removed in version 1.0.0. Downloads always resume when possible. If you want to force a new download, use `force_download=True`.\n",
      "  warnings.warn(\n",
      "Map: 100%|██████████████████████████████████████████████████████████████████████████████████████████████████████████████████████████████████████| 50000/50000 [00:20<00:00, 2423.07 examples/s]\n"
     ]
    }
   ],
   "source": [
    "from transformers import AutoTokenizer\n",
    "\n",
    "tokenizer = AutoTokenizer.from_pretrained(\"bert-base-cased\")\n",
    "\n",
    "def tokenize_function(examples):\n",
    "    return tokenizer(examples[\"text\"], padding=\"max_length\", truncation=True)\n",
    "\n",
    "tokenized_datasets = dataset.map(tokenize_function, batched=True)"
   ]
  },
  {
   "cell_type": "code",
   "execution_count": 32,
   "id": "77a6ff5b-a7cb-4938-a326-eb47ee728d2f",
   "metadata": {},
   "outputs": [
    {
     "data": {
      "text/html": [
       "<table border=\"1\" class=\"dataframe\">\n",
       "  <thead>\n",
       "    <tr style=\"text-align: right;\">\n",
       "      <th></th>\n",
       "      <th>label</th>\n",
       "      <th>text</th>\n",
       "      <th>input_ids</th>\n",
       "      <th>token_type_ids</th>\n",
       "      <th>attention_mask</th>\n",
       "    </tr>\n",
       "  </thead>\n",
       "  <tbody>\n",
       "    <tr>\n",
       "      <th>0</th>\n",
       "      <td>2 star</td>\n",
       "      <td>After reading the other quality reviews, I had high hopes for Cyros as the wife and I have often driven by but opted for other battle-tested sushi options nearby.  But, given a long holiday weekend and the chance to rid myself of a restaurant.com gift certificate, we headed over for dinner this week.\\n\\nGiven that it was a Thursday night, the place had a few tables full but the seating was open and we even had our choice of a regular table or a higher bar top.  The crowd definitely felt \\\"Southpark\\\" with the dyed blonde, botox-frozen ladies sipping glasses of wine while glaring at the pretty young woman in the other corner who's got a much older man wrapped around her arm.  But, hey, that's the neighborhood, not Cyros' fault.  Glad to know they've been accepted by the locals.\\n\\nOur downward spiral began with the service.  Things never really clicked with our server, Gisele.  She was slow to come to the table, almost invisible when it came time for refills, and reluctant to come back to check on the food she had just served.  Now there were two other servers in the room who did a much better job- checking in with us and offering refills.  Had they been our server, there'd at least be another star here as both seemed to genuinely be concerned with the customer experience both at our tables and those surrounding us.\\n\\nFor apps, I went with the seaweed salad and we had an order of endamame to share.  Both were embarrassments.  For $5, the seaweed salad was the smallest portion I had ever.  I even took a picture and added it  to this page (see above).  It was literally served in what looked like a soy sauce dish.  We also had to send back the endamame because it was cold.  We saw another table do the same and overhead their server mention that they had a new guy in the back.  Whoa, if we can't get steamed soybean pods correct then we're not ready for primetime.\\n\\nWe then waited (and waited) for our sushi.  Nothing makes me more mad then seeing tables that arrived after us getting their meals ahead of us.  I tried to reconcile this by thinking we ordered some fancy rolls, but the other tables did the same.\\n\\nWe went with the wasabi roll, the avante garde, and the nobu fire.  While tasty, the rolls were pretty lose and did not hold up going from plate to soy sauce to mouth.  They just seemed kind of sloppily made, almost lazy.  It kinda fit the theme of the night.\\n\\nThe last insult was the bill.  Now I fully accept that the certificate says 18% gratuity will be added to the whole bill.  That's fine.  But the final bill came back with a 20% tip.  Here's the math- $52 total bill, $10.40 tip.  18% should have been $9.36.  Not enough to fight over, but it's safe to say I won't be back- not where there's better quality and better service just around the corner.</td>\n",
       "      <td>[101, 1258, 3455, 1103, 1168, 3068, 3761, 117, 146, 1125, 1344, 7816, 1111, 27688, 5864, 1112, 1103, 1676, 1105, 146, 1138, 1510, 4940, 1118, 1133, 12243, 1111, 1168, 2321, 118, 7289, 28117, 5933, 6665, 2721, 119, 1252, 117, 1549, 170, 1263, 7946, 5138, 1105, 1103, 2640, 1106, 9297, 1991, 1104, 170, 4382, 119, 3254, 5309, 10890, 117, 1195, 2917, 1166, 1111, 4014, 1142, 1989, 119, 165, 183, 165, 183, 2349, 2109, 1179, 1115, 1122, 1108, 170, 9170, 1480, 117, 1103, 1282, 1125, 170, 1374, 7072, 1554, 1133, 1103, 11051, 1108, 1501, 1105, 1195, 1256, 1125, 1412, 3026, 1104, 170, 2366, ...]</td>\n",
       "      <td>[0, 0, 0, 0, 0, 0, 0, 0, 0, 0, 0, 0, 0, 0, 0, 0, 0, 0, 0, 0, 0, 0, 0, 0, 0, 0, 0, 0, 0, 0, 0, 0, 0, 0, 0, 0, 0, 0, 0, 0, 0, 0, 0, 0, 0, 0, 0, 0, 0, 0, 0, 0, 0, 0, 0, 0, 0, 0, 0, 0, 0, 0, 0, 0, 0, 0, 0, 0, 0, 0, 0, 0, 0, 0, 0, 0, 0, 0, 0, 0, 0, 0, 0, 0, 0, 0, 0, 0, 0, 0, 0, 0, 0, 0, 0, 0, 0, 0, 0, 0, ...]</td>\n",
       "      <td>[1, 1, 1, 1, 1, 1, 1, 1, 1, 1, 1, 1, 1, 1, 1, 1, 1, 1, 1, 1, 1, 1, 1, 1, 1, 1, 1, 1, 1, 1, 1, 1, 1, 1, 1, 1, 1, 1, 1, 1, 1, 1, 1, 1, 1, 1, 1, 1, 1, 1, 1, 1, 1, 1, 1, 1, 1, 1, 1, 1, 1, 1, 1, 1, 1, 1, 1, 1, 1, 1, 1, 1, 1, 1, 1, 1, 1, 1, 1, 1, 1, 1, 1, 1, 1, 1, 1, 1, 1, 1, 1, 1, 1, 1, 1, 1, 1, 1, 1, 1, ...]</td>\n",
       "    </tr>\n",
       "  </tbody>\n",
       "</table>"
      ],
      "text/plain": [
       "<IPython.core.display.HTML object>"
      ]
     },
     "metadata": {},
     "output_type": "display_data"
    }
   ],
   "source": [
    "show_random_elements(tokenized_datasets[\"train\"], num_examples=1)"
   ]
  },
  {
   "cell_type": "markdown",
   "id": "0ff1f0a7-e469-4fc1-abdc-7ee3a1759770",
   "metadata": {},
   "source": [
    "数据抽样\n",
    "使用 1000 个数据样本，在 BERT 上演示小规模训练（基于 Pytorch Trainer）"
   ]
  },
  {
   "cell_type": "code",
   "execution_count": 9,
   "id": "687eb165-9ba1-4fe6-b9d0-e2629234ef1e",
   "metadata": {},
   "outputs": [],
   "source": [
    "small_train_dataset = tokenized_datasets[\"train\"].shuffle(seed=42).select(range(1000))\n",
    "small_eval_dataset = tokenized_datasets[\"test\"].shuffle(seed=42).select(range(1000))"
   ]
  },
  {
   "cell_type": "code",
   "execution_count": 7,
   "id": "c813bde1-7466-4e73-abbd-c5fee7ddd50f",
   "metadata": {},
   "outputs": [
    {
     "name": "stderr",
     "output_type": "stream",
     "text": [
      "Some weights of BertForSequenceClassification were not initialized from the model checkpoint at bert-base-cased and are newly initialized: ['classifier.bias', 'classifier.weight']\n",
      "You should probably TRAIN this model on a down-stream task to be able to use it for predictions and inference.\n"
     ]
    }
   ],
   "source": [
    "from transformers import AutoModelForSequenceClassification\n",
    "\n",
    "model = AutoModelForSequenceClassification.from_pretrained(\"bert-base-cased\", num_labels=5)"
   ]
  },
  {
   "cell_type": "code",
   "execution_count": 9,
   "id": "6a3a3122-2cc4-4968-9102-d801abc95acc",
   "metadata": {},
   "outputs": [],
   "source": [
    "from transformers import TrainingArguments\n",
    "\n",
    "model_dir = \"/GL8616/models/bert-base-cased-finetune-yelp\"\n",
    "\n",
    "# logging_steps 默认值为500，根据我们的训练数据和步长，将其设置为100\n",
    "training_args = TrainingArguments(output_dir=model_dir,\n",
    "                                  per_device_train_batch_size=16,\n",
    "                                  num_train_epochs=5,\n",
    "                                  logging_steps=100)"
   ]
  },
  {
   "cell_type": "code",
   "execution_count": 10,
   "id": "2e2df111-504e-4d57-b0a2-b8d87d4bfde9",
   "metadata": {},
   "outputs": [
    {
     "name": "stdout",
     "output_type": "stream",
     "text": [
      "TrainingArguments(\n",
      "_n_gpu=1,\n",
      "adafactor=False,\n",
      "adam_beta1=0.9,\n",
      "adam_beta2=0.999,\n",
      "adam_epsilon=1e-08,\n",
      "auto_find_batch_size=False,\n",
      "bf16=False,\n",
      "bf16_full_eval=False,\n",
      "data_seed=None,\n",
      "dataloader_drop_last=False,\n",
      "dataloader_num_workers=0,\n",
      "dataloader_persistent_workers=False,\n",
      "dataloader_pin_memory=True,\n",
      "ddp_backend=None,\n",
      "ddp_broadcast_buffers=None,\n",
      "ddp_bucket_cap_mb=None,\n",
      "ddp_find_unused_parameters=None,\n",
      "ddp_timeout=1800,\n",
      "debug=[],\n",
      "deepspeed=None,\n",
      "disable_tqdm=False,\n",
      "dispatch_batches=None,\n",
      "do_eval=False,\n",
      "do_predict=False,\n",
      "do_train=False,\n",
      "eval_accumulation_steps=None,\n",
      "eval_delay=0,\n",
      "eval_steps=None,\n",
      "evaluation_strategy=no,\n",
      "fp16=False,\n",
      "fp16_backend=auto,\n",
      "fp16_full_eval=False,\n",
      "fp16_opt_level=O1,\n",
      "fsdp=[],\n",
      "fsdp_config={'min_num_params': 0, 'xla': False, 'xla_fsdp_grad_ckpt': False},\n",
      "fsdp_min_num_params=0,\n",
      "fsdp_transformer_layer_cls_to_wrap=None,\n",
      "full_determinism=False,\n",
      "gradient_accumulation_steps=1,\n",
      "gradient_checkpointing=False,\n",
      "gradient_checkpointing_kwargs=None,\n",
      "greater_is_better=None,\n",
      "group_by_length=False,\n",
      "half_precision_backend=auto,\n",
      "hub_always_push=False,\n",
      "hub_model_id=None,\n",
      "hub_private_repo=False,\n",
      "hub_strategy=every_save,\n",
      "hub_token=<HUB_TOKEN>,\n",
      "ignore_data_skip=False,\n",
      "include_inputs_for_metrics=False,\n",
      "include_num_input_tokens_seen=False,\n",
      "include_tokens_per_second=False,\n",
      "jit_mode_eval=False,\n",
      "label_names=None,\n",
      "label_smoothing_factor=0.0,\n",
      "learning_rate=5e-05,\n",
      "length_column_name=length,\n",
      "load_best_model_at_end=False,\n",
      "local_rank=0,\n",
      "log_level=passive,\n",
      "log_level_replica=warning,\n",
      "log_on_each_node=True,\n",
      "logging_dir=/GL8616/models/bert-base-cased-finetune-yelp/runs/Aug20_18-15-15_iZ6wearaq5de2lchqv8ap3Z,\n",
      "logging_first_step=False,\n",
      "logging_nan_inf_filter=True,\n",
      "logging_steps=100,\n",
      "logging_strategy=steps,\n",
      "lr_scheduler_kwargs={},\n",
      "lr_scheduler_type=linear,\n",
      "max_grad_norm=1.0,\n",
      "max_steps=-1,\n",
      "metric_for_best_model=None,\n",
      "mp_parameters=,\n",
      "neftune_noise_alpha=None,\n",
      "no_cuda=False,\n",
      "num_train_epochs=5,\n",
      "optim=adamw_torch,\n",
      "optim_args=None,\n",
      "output_dir=/GL8616/models/bert-base-cased-finetune-yelp,\n",
      "overwrite_output_dir=False,\n",
      "past_index=-1,\n",
      "per_device_eval_batch_size=8,\n",
      "per_device_train_batch_size=16,\n",
      "prediction_loss_only=False,\n",
      "push_to_hub=False,\n",
      "push_to_hub_model_id=None,\n",
      "push_to_hub_organization=None,\n",
      "push_to_hub_token=<PUSH_TO_HUB_TOKEN>,\n",
      "ray_scope=last,\n",
      "remove_unused_columns=True,\n",
      "report_to=[],\n",
      "resume_from_checkpoint=None,\n",
      "run_name=/GL8616/models/bert-base-cased-finetune-yelp,\n",
      "save_on_each_node=False,\n",
      "save_only_model=False,\n",
      "save_safetensors=True,\n",
      "save_steps=500,\n",
      "save_strategy=steps,\n",
      "save_total_limit=None,\n",
      "seed=42,\n",
      "skip_memory_metrics=True,\n",
      "split_batches=False,\n",
      "tf32=None,\n",
      "torch_compile=False,\n",
      "torch_compile_backend=None,\n",
      "torch_compile_mode=None,\n",
      "torchdynamo=None,\n",
      "tpu_metrics_debug=False,\n",
      "tpu_num_cores=None,\n",
      "use_cpu=False,\n",
      "use_ipex=False,\n",
      "use_legacy_prediction_loop=False,\n",
      "use_mps_device=False,\n",
      "warmup_ratio=0.0,\n",
      "warmup_steps=0,\n",
      "weight_decay=0.0,\n",
      ")\n"
     ]
    }
   ],
   "source": [
    "# 完整的超参数配置\n",
    "print(training_args)"
   ]
  },
  {
   "cell_type": "code",
   "execution_count": 1,
   "id": "b9ec0d81-debb-4300-8a9d-e40acce42a3d",
   "metadata": {},
   "outputs": [
    {
     "name": "stderr",
     "output_type": "stream",
     "text": [
      "/usr/local/lib/python3.10/dist-packages/tqdm/auto.py:21: TqdmWarning: IProgress not found. Please update jupyter and ipywidgets. See https://ipywidgets.readthedocs.io/en/stable/user_install.html\n",
      "  from .autonotebook import tqdm as notebook_tqdm\n",
      "Downloading builder script: 4.20kB [00:00, 4.09MB/s]\n"
     ]
    }
   ],
   "source": [
    "import numpy as np\n",
    "import evaluate\n",
    "metric = evaluate.load(\"accuracy\")"
   ]
  },
  {
   "cell_type": "code",
   "execution_count": 2,
   "id": "efaf2248-dfa6-4846-9669-831113d9cf00",
   "metadata": {},
   "outputs": [],
   "source": [
    "def compute_metrics(eval_pred):\n",
    "    logits, labels = eval_pred\n",
    "    predictions = np.argmax(logits, axis=-1)\n",
    "    return metric.compute(predictions=predictions, references=labels)"
   ]
  },
  {
   "cell_type": "code",
   "execution_count": 18,
   "id": "076e2175-ffd8-4593-94ca-0d4f9502b815",
   "metadata": {},
   "outputs": [],
   "source": [
    "from transformers import TrainingArguments, Trainer\n",
    "model_dir = \"/GL8616/models/bert-base-cased-finetune-yelp\"\n",
    "training_args = TrainingArguments(output_dir=model_dir,\n",
    "                                  evaluation_strategy=\"epoch\", \n",
    "                                  per_device_train_batch_size=16,\n",
    "                                  num_train_epochs=3,\n",
    "                                  logging_steps=30,\n",
    "                                 use_cpu=True #显存被占用，先使用CPU\n",
    "                                 )\n",
    "\n",
    "\n",
    "trainer = Trainer(\n",
    "    model=model,\n",
    "    args=training_args,\n",
    "    train_dataset=small_train_dataset,\n",
    "    eval_dataset=small_eval_dataset,\n",
    "    compute_metrics=compute_metrics,\n",
    ")"
   ]
  },
  {
   "cell_type": "code",
   "execution_count": 19,
   "id": "408b033f-e64e-454b-b779-858aa76d4d1c",
   "metadata": {},
   "outputs": [
    {
     "data": {
      "text/html": [
       "\n",
       "    <div>\n",
       "      \n",
       "      <progress value='189' max='189' style='width:300px; height:20px; vertical-align: middle;'></progress>\n",
       "      [189/189 1:48:49, Epoch 3/3]\n",
       "    </div>\n",
       "    <table border=\"1\" class=\"dataframe\">\n",
       "  <thead>\n",
       " <tr style=\"text-align: left;\">\n",
       "      <th>Epoch</th>\n",
       "      <th>Training Loss</th>\n",
       "      <th>Validation Loss</th>\n",
       "      <th>Accuracy</th>\n",
       "    </tr>\n",
       "  </thead>\n",
       "  <tbody>\n",
       "    <tr>\n",
       "      <td>1</td>\n",
       "      <td>1.325600</td>\n",
       "      <td>1.088172</td>\n",
       "      <td>0.554000</td>\n",
       "    </tr>\n",
       "    <tr>\n",
       "      <td>2</td>\n",
       "      <td>0.957100</td>\n",
       "      <td>1.109215</td>\n",
       "      <td>0.502000</td>\n",
       "    </tr>\n",
       "    <tr>\n",
       "      <td>3</td>\n",
       "      <td>0.644000</td>\n",
       "      <td>0.970028</td>\n",
       "      <td>0.602000</td>\n",
       "    </tr>\n",
       "  </tbody>\n",
       "</table><p>"
      ],
      "text/plain": [
       "<IPython.core.display.HTML object>"
      ]
     },
     "metadata": {},
     "output_type": "display_data"
    },
    {
     "data": {
      "text/plain": [
       "TrainOutput(global_step=189, training_loss=1.021029411800324, metrics={'train_runtime': 6565.4876, 'train_samples_per_second': 0.457, 'train_steps_per_second': 0.029, 'total_flos': 789354427392000.0, 'train_loss': 1.021029411800324, 'epoch': 3.0})"
      ]
     },
     "execution_count": 19,
     "metadata": {},
     "output_type": "execute_result"
    }
   ],
   "source": [
    "trainer.train()"
   ]
  },
  {
   "cell_type": "code",
   "execution_count": null,
   "id": "6fb48648-ca54-4d0b-bbf5-f524d8634ddf",
   "metadata": {},
   "outputs": [],
   "source": [
    "small_test_dataset = tokenized_datasets[\"test\"].shuffle(seed=64).select(range(100))\n",
    "trainer.evaluate(small_test_dataset)"
   ]
  },
  {
   "cell_type": "code",
   "execution_count": null,
   "id": "8b7ce4c6-0e1d-4e44-8392-431d1805a80e",
   "metadata": {},
   "outputs": [],
   "source": [
    "trainer.save_model(model_dir)"
   ]
  },
  {
   "cell_type": "code",
   "execution_count": null,
   "id": "615adb34-dfc5-425c-b856-a0f87afb508a",
   "metadata": {},
   "outputs": [],
   "source": [
    "trainer.save_state()"
   ]
  }
 ],
 "metadata": {
  "kernelspec": {
   "display_name": "Python 3 (ipykernel)",
   "language": "python",
   "name": "python3"
  },
  "language_info": {
   "codemirror_mode": {
    "name": "ipython",
    "version": 3
   },
   "file_extension": ".py",
   "mimetype": "text/x-python",
   "name": "python",
   "nbconvert_exporter": "python",
   "pygments_lexer": "ipython3",
   "version": "3.10.12"
  }
 },
 "nbformat": 4,
 "nbformat_minor": 5
}
