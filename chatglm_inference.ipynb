{
 "cells": [
  {
   "cell_type": "code",
   "execution_count": 1,
   "id": "8b9df12f-429d-41aa-9800-24b9a97faf9e",
   "metadata": {},
   "outputs": [
    {
     "name": "stderr",
     "output_type": "stream",
     "text": [
      "/usr/local/lib/python3.10/dist-packages/tqdm/auto.py:21: TqdmWarning: IProgress not found. Please update jupyter and ipywidgets. See https://ipywidgets.readthedocs.io/en/stable/user_install.html\n",
      "  from .autonotebook import tqdm as notebook_tqdm\n"
     ]
    }
   ],
   "source": [
    "#模型推理\n",
    "import torch\n",
    "from transformers import AutoModel, AutoTokenizer, BitsAndBytesConfig\n",
    "\n",
    "# 模型ID或本地路径\n",
    "model_name_or_path = 'THUDM/chatglm3-6b'"
   ]
  },
  {
   "cell_type": "code",
   "execution_count": 2,
   "id": "5af77ff3-cd03-44cd-be15-f61b141b52ac",
   "metadata": {},
   "outputs": [
    {
     "name": "stderr",
     "output_type": "stream",
     "text": [
      "/usr/local/lib/python3.10/dist-packages/huggingface_hub/file_download.py:945: FutureWarning: `resume_download` is deprecated and will be removed in version 1.0.0. Downloads always resume when possible. If you want to force a new download, use `force_download=True`.\n",
      "  warnings.warn(\n",
      "/usr/local/lib/python3.10/dist-packages/huggingface_hub/file_download.py:945: FutureWarning: `resume_download` is deprecated and will be removed in version 1.0.0. Downloads always resume when possible. If you want to force a new download, use `force_download=True`.\n",
      "  warnings.warn(\n",
      "Loading checkpoint shards: 100%|██████████| 7/7 [00:05<00:00,  1.33it/s]\n",
      "/usr/local/lib/python3.10/dist-packages/huggingface_hub/file_download.py:945: FutureWarning: `resume_download` is deprecated and will be removed in version 1.0.0. Downloads always resume when possible. If you want to force a new download, use `force_download=True`.\n",
      "  warnings.warn(\n"
     ]
    }
   ],
   "source": [
    "_compute_dtype_map = {\n",
    "    'fp32': torch.float32,\n",
    "    'fp16': torch.float16,\n",
    "    'bf16': torch.bfloat16\n",
    "}\n",
    "\n",
    "# QLoRA 量化配置\n",
    "q_config = BitsAndBytesConfig(load_in_4bit=True,\n",
    "                              bnb_4bit_quant_type='nf4',\n",
    "                              bnb_4bit_use_double_quant=True,\n",
    "                              bnb_4bit_compute_dtype=_compute_dtype_map['bf16'])\n",
    "\n",
    "# 加载量化后模型(与微调的 revision 保持一致）\n",
    "base_model = AutoModel.from_pretrained(model_name_or_path,\n",
    "                                      quantization_config=q_config,\n",
    "                                      device_map='auto',\n",
    "                                      trust_remote_code=True,\n",
    "                                      revision='b098244')"
   ]
  },
  {
   "cell_type": "code",
   "execution_count": 3,
   "id": "4d2fa86f-9366-4d2e-bdde-cc451d47451c",
   "metadata": {},
   "outputs": [
    {
     "data": {
      "text/plain": [
       "ChatGLMForConditionalGeneration(\n",
       "  (transformer): ChatGLMModel(\n",
       "    (embedding): Embedding(\n",
       "      (word_embeddings): Embedding(65024, 4096)\n",
       "    )\n",
       "    (rotary_pos_emb): RotaryEmbedding()\n",
       "    (encoder): GLMTransformer(\n",
       "      (layers): ModuleList(\n",
       "        (0-27): 28 x GLMBlock(\n",
       "          (input_layernorm): RMSNorm()\n",
       "          (self_attention): SelfAttention(\n",
       "            (query_key_value): Linear4bit(in_features=4096, out_features=4608, bias=True)\n",
       "            (core_attention): CoreAttention(\n",
       "              (attention_dropout): Dropout(p=0.0, inplace=False)\n",
       "            )\n",
       "            (dense): Linear4bit(in_features=4096, out_features=4096, bias=False)\n",
       "          )\n",
       "          (post_attention_layernorm): RMSNorm()\n",
       "          (mlp): MLP(\n",
       "            (dense_h_to_4h): Linear4bit(in_features=4096, out_features=27392, bias=False)\n",
       "            (dense_4h_to_h): Linear4bit(in_features=13696, out_features=4096, bias=False)\n",
       "          )\n",
       "        )\n",
       "      )\n",
       "      (final_layernorm): RMSNorm()\n",
       "    )\n",
       "    (output_layer): Linear(in_features=4096, out_features=65024, bias=False)\n",
       "  )\n",
       ")"
      ]
     },
     "execution_count": 3,
     "metadata": {},
     "output_type": "execute_result"
    }
   ],
   "source": [
    "base_model.requires_grad_(False)\n",
    "base_model.eval()"
   ]
  },
  {
   "cell_type": "code",
   "execution_count": 4,
   "id": "b47903d1-6ffc-4b69-ab4f-1173b61c4b87",
   "metadata": {},
   "outputs": [],
   "source": [
    "tokenizer = AutoTokenizer.from_pretrained(model_name_or_path,\n",
    "                                          trust_remote_code=True,\n",
    "                                          revision='b098244')"
   ]
  },
  {
   "cell_type": "code",
   "execution_count": 5,
   "id": "ca79dd1e-8210-4903-b1f6-fb425f4751bc",
   "metadata": {},
   "outputs": [
    {
     "name": "stdout",
     "output_type": "stream",
     "text": [
      "古希腊哲学是指古希腊时期（公元前5世纪到公元前3世纪）哲学家们对自然、社会、人类和思维等方面的探讨和思考。古希腊哲学的起源可以追溯到公元前6世纪，当时的苏格拉底、柏拉图和亚里士多德等哲学家开创了不同的哲学体系。在随后的时期，哲学家们对同一问题进行了更深入的探讨，发展出了不同的学说。\n",
      "\n",
      "古希腊哲学的主要内容包括伦理学、形而上学、认识论、逻辑学、政治学等方面。其中，伦理学主要关注道德和道德价值观念的探讨；形而上学关注宇宙、自然和人类本性的研究；认识论探讨知识的本质、来源和范围；逻辑学关注推理和论证的规律；政治学则关注国家、政治制度和社会组织的理论基础。\n",
      "\n",
      "古希腊哲学的著名学派和哲学家包括：\n",
      "\n",
      "1. 苏格拉底（Socrates）：被认为是西方哲学的奠基人，他强调个人品德的完善和对知识的追求。\n",
      "\n",
      "2. 柏拉图（Plato）：创立了形而上学中的理念论，认为真正的现实是理念世界，人类世界只是理念世界的影子。\n",
      "\n",
      "3. 亚里士多德（Aristotle）：他继承了苏格拉底的理论，对伦理学、形而上学、逻辑学、政治学等多个领域做出了重要贡献。\n",
      "\n",
      "古希腊哲学对后世产生了深远的影响，它为西方哲学的发展奠定了基础，并影响了欧洲的文学、艺术、科学、政治等领域。同时，古希腊哲学中的许多思想和观念，如民主、平等、逻辑学等，对现代社会产生了重要影响。\n"
     ]
    }
   ],
   "source": [
    "#使用原始 ChatGLM3-6B 模型\n",
    "input_text = \"解释下古希腊哲学是什么？\"\n",
    "response, history = base_model.chat(tokenizer, query=input_text)\n",
    "print(response)"
   ]
  },
  {
   "cell_type": "code",
   "execution_count": 6,
   "id": "2cd37b53-7a66-4f70-8b98-b64376439b06",
   "metadata": {},
   "outputs": [
    {
     "name": "stdout",
     "output_type": "stream",
     "text": [
      "西方哲学史通常认为苏格拉底（Socrates）是西方哲学史的第一位哲学家。苏格拉底是古希腊哲学的奠基人，他在公元前5世纪后期和公元前4世纪早期活动于雅典，通过提问和对话的方式引导人们追求智慧和美德。他的方法强调质疑、对话和自我改进，对后世哲学产生了深远影响。虽然有学者认为更早的哲学家如赫拉克利特、巴门尼德等也应该被计入西方哲学史，但通常认为苏格拉底是西方哲学史的开端。\n"
     ]
    }
   ],
   "source": [
    "response, history = base_model.chat(tokenizer, query=\"西方哲学史的第一位哲学家是谁？\", history=history)\n",
    "print(response)"
   ]
  },
  {
   "cell_type": "code",
   "execution_count": 7,
   "id": "46065d3d-4564-448a-97bb-b701935d2c67",
   "metadata": {},
   "outputs": [
    {
     "data": {
      "text/plain": [
       "[{'role': 'user', 'content': '解释下古希腊哲学是什么？'},\n",
       " {'role': 'assistant',\n",
       "  'metadata': '',\n",
       "  'content': '古希腊哲学是指古希腊时期（公元前5世纪到公元前3世纪）哲学家们对自然、社会、人类和思维等方面的探讨和思考。古希腊哲学的起源可以追溯到公元前6世纪，当时的苏格拉底、柏拉图和亚里士多德等哲学家开创了不同的哲学体系。在随后的时期，哲学家们对同一问题进行了更深入的探讨，发展出了不同的学说。\\n\\n古希腊哲学的主要内容包括伦理学、形而上学、认识论、逻辑学、政治学等方面。其中，伦理学主要关注道德和道德价值观念的探讨；形而上学关注宇宙、自然和人类本性的研究；认识论探讨知识的本质、来源和范围；逻辑学关注推理和论证的规律；政治学则关注国家、政治制度和社会组织的理论基础。\\n\\n古希腊哲学的著名学派和哲学家包括：\\n\\n1. 苏格拉底（Socrates）：被认为是西方哲学的奠基人，他强调个人品德的完善和对知识的追求。\\n\\n2. 柏拉图（Plato）：创立了形而上学中的理念论，认为真正的现实是理念世界，人类世界只是理念世界的影子。\\n\\n3. 亚里士多德（Aristotle）：他继承了苏格拉底的理论，对伦理学、形而上学、逻辑学、政治学等多个领域做出了重要贡献。\\n\\n古希腊哲学对后世产生了深远的影响，它为西方哲学的发展奠定了基础，并影响了欧洲的文学、艺术、科学、政治等领域。同时，古希腊哲学中的许多思想和观念，如民主、平等、逻辑学等，对现代社会产生了重要影响。'},\n",
       " {'role': 'user', 'content': '西方哲学史的第一位哲学家是谁？'},\n",
       " {'role': 'assistant',\n",
       "  'metadata': '',\n",
       "  'content': '西方哲学史通常认为苏格拉底（Socrates）是西方哲学史的第一位哲学家。苏格拉底是古希腊哲学的奠基人，他在公元前5世纪后期和公元前4世纪早期活动于雅典，通过提问和对话的方式引导人们追求智慧和美德。他的方法强调质疑、对话和自我改进，对后世哲学产生了深远影响。虽然有学者认为更早的哲学家如赫拉克利特、巴门尼德等也应该被计入西方哲学史，但通常认为苏格拉底是西方哲学史的开端。'}]"
      ]
     },
     "execution_count": 7,
     "metadata": {},
     "output_type": "execute_result"
    }
   ],
   "source": [
    "history"
   ]
  },
  {
   "cell_type": "code",
   "execution_count": 8,
   "id": "b6ec60e0-bb48-4be4-9ff9-5ab91caf894f",
   "metadata": {},
   "outputs": [],
   "source": [
    "#使用微调后的 ChatGLM3-6B\n",
    "from peft import PeftModel, PeftConfig\n",
    "\n",
    "epochs = 3\n",
    "timestamp = \"20250824_095254\"\n",
    "\n",
    "peft_model_path = f\"/GL8616/models/{model_name_or_path}-epoch{epochs}-{timestamp}\"\n",
    "\n",
    "config = PeftConfig.from_pretrained(peft_model_path)\n",
    "qlora_model = PeftModel.from_pretrained(base_model, peft_model_path)\n",
    "training_tag=f\"ChatGLM3-6B(Epoch=3, automade-dataset(fixed))-{timestamp}\""
   ]
  },
  {
   "cell_type": "code",
   "execution_count": 9,
   "id": "b6223b7c-eae4-4b6d-aa61-3f0f2b6dce93",
   "metadata": {},
   "outputs": [],
   "source": [
    "def compare_chatglm_results(query, base_model, qlora_model, training_tag):\n",
    "    base_response, base_history = base_model.chat(tokenizer, query)\n",
    "\n",
    "    inputs = tokenizer(query, return_tensors=\"pt\").to(0)\n",
    "    ft_out = qlora_model.generate(**inputs, max_new_tokens=512)\n",
    "    ft_response = tokenizer.decode(ft_out[0], skip_special_tokens=True)\n",
    "    \n",
    "    print(f\"问题：{query}\\n\\n原始输出：\\n{base_response}\\n\\n\\n微调后（{training_tag}）：\\n{ft_response}\")\n",
    "    return base_response, ft_response"
   ]
  },
  {
   "cell_type": "code",
   "execution_count": 10,
   "id": "bbe59ebf-a42e-49d1-948b-45ad0ff7447b",
   "metadata": {},
   "outputs": [
    {
     "name": "stdout",
     "output_type": "stream",
     "text": [
      "问题：解释下古希腊哲学是什么？\n",
      "\n",
      "原始输出：\n",
      "古希腊哲学是指古希腊时期哲学家们的思想和理论,涵盖了伦理学、形而上学、逻辑、政治、美学和科学等多个领域。\n",
      "\n",
      "古希腊哲学的起源可以追溯到公元前6世纪,当时的古希腊城邦开始出现最早的哲学思考。公元前5世纪,著名的哲学家如苏格拉底、柏拉图和亚里士多德等人开始发展自己的哲学体系。\n",
      "\n",
      "古希腊哲学中的一些重要思想包括:\n",
      "\n",
      "1. 原子论:认为所有物质都是由微小的不可分割的粒子——原子组成的。\n",
      "\n",
      "2. 民主:强调公民的自由和平等,认为政治权力应该由所有公民共同分享。\n",
      "\n",
      "3. 逻辑学:研究推理和论证的基本原则,包括命题逻辑和谓词逻辑。\n",
      "\n",
      "4. 伦理学:研究道德和道德价值观念,强调人的道德责任和个人品德的重要性。\n",
      "\n",
      "5. 形而上学:研究现实和存在的本质,探讨宇宙的起源和结构。\n",
      "\n",
      "6. 科学:对自然界进行研究和探索,包括物理学、生物学、数学和天文学等。\n",
      "\n",
      "古希腊哲学对西方哲学和西方文化的发展产生了深远的影响,它的一些思想和观念仍然影响着我们的思考和生活。\n",
      "\n",
      "\n",
      "微调后（ChatGLM3-6B(Epoch=3, automade-dataset(fixed))-20250824_095254）：\n",
      "[gMASK]sop 解释下古希腊哲学是什么？\n",
      "古希腊哲学是指古希腊时期哲学家们探索人类本质、社会、宇宙等问题的哲学思想。古希腊哲学的起源可以追溯到公元前6世纪,当时的希腊城邦开始出现独立思考的个人,并开始对传统的神话和宗教产生怀疑。\n",
      "\n",
      "古希腊哲学的主要流派包括柏拉图主义、亚里士多德主义和斯多葛主义等。其中,柏拉图主义主张哲学家统治,认为人类的本性是理性的,而亚里士多德主义则主张寻求真理和智慧,强调实证和经验,斯多葛主义则强调道德和伦理。\n",
      "\n",
      "古希腊哲学对西方哲学的发展产生了深远的影响,其中许多哲学思想和概念已经成为西方哲学的核心。例如,亚里士多德的伦理学、政治学、逻辑学等对西方哲学的影响至今仍然存在。同时,古希腊哲学中的理性、实证、道德等概念也成为了现代科学和伦理学的基础。\n"
     ]
    }
   ],
   "source": [
    "base_response, ft_response = compare_chatglm_results(\"解释下古希腊哲学是什么？\", base_model, qlora_model, training_tag)"
   ]
  },
  {
   "cell_type": "code",
   "execution_count": 11,
   "id": "38378815-0b33-43c0-8dc7-aa11d7429fc0",
   "metadata": {},
   "outputs": [
    {
     "name": "stdout",
     "output_type": "stream",
     "text": [
      "问题：古代中国哲学？\n",
      "\n",
      "原始输出：\n",
      "古代中国哲学，又称为中国哲学史，是指在古代中国这一历史时期涌现出的哲学思想和理论。中国哲学源远流长，可追溯到公元前2000多年前的黄帝时代。在此，我们主要介绍两个重要的哲学流派：儒家和道家。\n",
      "\n",
      "儒家是我国古代最具影响力的哲学流派，创立于春秋时期的鲁国。儒家的代表人物是孔子，他的思想体系被称为儒家思想。儒家主张“仁”为宇宙的最高道德原则，强调个人修养、家庭伦理和社会秩序。儒家经典《论语》、《孟子》和《大学》等都是儒家哲学的重要文献。\n",
      "\n",
      "道家成立于春秋战国时期，创立者为老子。道家主张“道”为宇宙的本源，强调顺应自然、无为而治。道家的代表作品是《道德经》，这部著作阐述了道家的哲学观念和人生哲学。道家哲学对后世产生了深远的影响，如庄子、列子等道家学者对儒家的反思和批判，以及唐宋时期道教的繁荣等。\n",
      "\n",
      "除了儒家和道家之外，古代中国还有许多其他哲学流派，如法家、墨家、名家等。这些流派各有特点，相互竞争，共同推动了中国哲学的发展。\n",
      "\n",
      "古代中国哲学对后世产生了深远的影响，对于今天的国人，了解古代中国哲学有助于更好地认识中华文明的博大精深，并为构建现代和谐社会提供有益的启示。\n",
      "\n",
      "\n",
      "微调后（ChatGLM3-6B(Epoch=3, automade-dataset(fixed))-20250824_095254）：\n",
      "[gMASK]sop 古代中国哲学？ \n",
      "古代中国哲学，又称为中国哲学史，是指起源于中国并在历史上发展演变的一系列哲学思想和理论。古代中国哲学有着悠久的历史，可以追溯到先秦时期。在漫长的历史过程中，涌现出了许多杰出的哲学家，他们的思想成果对后世产生了深远的影响。\n",
      "\n",
      "古代中国哲学的主要内容包括儒家、道家、墨家、法家等学派。其中，儒家是古代中国哲学的主流，其创立者是孔子，后来经过孟子的发展，形成了儒家思想体系。儒家主张仁、义、礼、智、信等道德观念，强调个人修养和社会责任，对古代中国的教育、政治、伦理等方面产生了重要影响。\n",
      "\n",
      "道家哲学起源于先秦时期的道家，其创立者是老子。道家主张道法自然，提倡无为而治，强调内心的宁静和自由。道家的思想对后世产生了很大的影响，尤其是在唐朝时期，道家的思想与佛教相结合，形成了具有中国特色的道教。\n",
      "\n",
      "墨家是古代中国的一个墨子学派，墨子主张兼爱、非攻、节用等思想。墨子的墨家思想对后世的民间道德观念产生了积极的影响。\n",
      "\n",
      "法家是古代中国哲学的另一个重要学派，起源于战国时期的法家。法家主张法治，强调法、权、术的运用，以国家利益为最高目标。法家的思想对后世的法律制度产生了深远的影响。\n",
      "\n",
      "总之，古代中国哲学是博大精深的，各种学派相互竞争、相互影响，共同构成了中国哲学的丰富体系。这些哲学思想和理论对后世产生了深远的影响，并继续在现代中国哲学的发展中发挥重要作用。\n"
     ]
    }
   ],
   "source": [
    "base_response, ft_response = compare_chatglm_results(\"古代中国哲学？\", base_model, qlora_model, training_tag)"
   ]
  }
 ],
 "metadata": {
  "kernelspec": {
   "display_name": "Python 3 (ipykernel)",
   "language": "python",
   "name": "python3"
  },
  "language_info": {
   "codemirror_mode": {
    "name": "ipython",
    "version": 3
   },
   "file_extension": ".py",
   "mimetype": "text/x-python",
   "name": "python",
   "nbconvert_exporter": "python",
   "pygments_lexer": "ipython3",
   "version": "3.10.12"
  }
 },
 "nbformat": 4,
 "nbformat_minor": 5
}
